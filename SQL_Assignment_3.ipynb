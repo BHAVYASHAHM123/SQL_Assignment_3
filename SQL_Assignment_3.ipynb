{
  "nbformat": 4,
  "nbformat_minor": 0,
  "metadata": {
    "colab": {
      "name": "SQL_Assignment_3.ipynb",
      "provenance": []
    },
    "kernelspec": {
      "name": "python3",
      "display_name": "Python 3"
    },
    "language_info": {
      "name": "python"
    }
  },
  "cells": [
    {
      "cell_type": "markdown",
      "source": [
        "Q1). Write an SQL query to print the FIRST_NAME from Worker table after removing\n",
        "white spaces from the right side.\n",
        "\n",
        "Ans) \n",
        "Select RTRIM(FIRST_NAME) from Worker;"
      ],
      "metadata": {
        "id": "ndJ2cVjiYKmX"
      }
    },
    {
      "cell_type": "markdown",
      "source": [
        "Q2). Write an SQL query that fetches the unique values of DEPARTMENT from Worker\n",
        "table and prints its length.\n",
        "\n",
        "Ans) SELECT DISTINCT department_id \n",
        "\t  FROM employees;"
      ],
      "metadata": {
        "id": "lM7pHzwVYKi8"
      }
    },
    {
      "cell_type": "markdown",
      "source": [
        "Q3) Write an SQL query to fetch nth max salaries from a table.\n",
        "\n",
        "Ans) \n",
        "\n",
        "Select Emp_name from table_name where Salary =( Select Salary from table_name order by Salary DESC limit n-1,1);"
      ],
      "metadata": {
        "id": "kKsouOAiYKgv"
      }
    },
    {
      "cell_type": "markdown",
      "source": [
        ""
      ],
      "metadata": {
        "id": "qK4lHstFYKbb"
      }
    }
  ]
}